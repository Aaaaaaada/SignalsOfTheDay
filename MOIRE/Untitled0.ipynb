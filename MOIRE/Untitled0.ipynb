{
 "metadata": {
  "name": "",
  "signature": "sha256:909d67235114221f26e51b1b5278721ab3becca6569af9f4da54a1187a46456e"
 },
 "nbformat": 3,
 "nbformat_minor": 0,
 "worksheets": [
  {
   "cells": [
    {
     "cell_type": "markdown",
     "metadata": {},
     "source": [
      "Introduction\n",
      "============\n",
      "\n",
      "It may have happened for you several times, especially if you are a male: You are wearing a casual striped shirt and you decide to appear in a photo. After you look at the taken photo, you notice some weird patterns on your shirt in the photo. Look at the following image for example:\n",
      "\n",
      "![](http://www.btobey.com/nikon/images/colormoire.jpg)\n",
      "\n",
      "Of course there is nothing unusual with this shirt or yours. What has happened is an example of a phenomenon called the _Moir\u00e8 pattern_.\n",
      "\n",
      "As a signal processing student, you can think of the Moire pattern as the realizations of aliasing in the space of 2-\n",
      "D image signals. Here, the synthetic frequencies which are created due to the inappropriate subsampling, appear as periodic pattern in the down-sampled image. That's the reason that the frequency of these synthetic pattern is lower than the minimum frequency present in the image itself.\n",
      "\n",
      "Moire patterns are usually best visible in images with highly repeated patterns. Consider the following photo for example:"
     ]
    },
    {
     "cell_type": "code",
     "collapsed": false,
     "input": [
      "import Image, ImageDraw, ImageStat\n",
      "from matplotlib import pyplot as plt\n",
      "import numpy as np\n",
      "\n",
      "im = Image.open(\"brick.png\")\n",
      "\n",
      "im.show();"
     ],
     "language": "python",
     "metadata": {},
     "outputs": [],
     "prompt_number": 21
    },
    {
     "cell_type": "markdown",
     "metadata": {},
     "source": [
      "The bricks are readily visible here. Now we reduce the size of the image by a factor of 2 in each dimension:"
     ]
    },
    {
     "cell_type": "code",
     "collapsed": false,
     "input": [
      "im2=im.resize((im.size[0]/2,im.size[1]/2));\n",
      "im2.show();"
     ],
     "language": "python",
     "metadata": {},
     "outputs": [],
     "prompt_number": 22
    },
    {
     "cell_type": "markdown",
     "metadata": {},
     "source": [
      "Still we have a decent photo. Downsampling by another factor of 2 however,"
     ]
    },
    {
     "cell_type": "code",
     "collapsed": false,
     "input": [
      "im4=im2.resize((im2.size[0]/2,im2.size[1]/2));\n",
      "im4.show();"
     ],
     "language": "python",
     "metadata": {},
     "outputs": [],
     "prompt_number": 23
    },
    {
     "cell_type": "markdown",
     "metadata": {},
     "source": [
      "We can now see slight Moire artifacts appearing. \n",
      "\n",
      "Finally, we can see the high amount of Moire artifacts in the following photo, downsampled by a factor of 8 with relation to the original one:"
     ]
    },
    {
     "cell_type": "code",
     "collapsed": false,
     "input": [
      "im8=im.resize((im4.size[0]/2,im4.size[1]/2));\n",
      "im8.show();"
     ],
     "language": "python",
     "metadata": {},
     "outputs": [],
     "prompt_number": 24
    },
    {
     "cell_type": "markdown",
     "metadata": {},
     "source": [
      "The fact that Moire patterns appear if we down-sample the signal more than a pre-defined threshold, is a strong evidence to verify our hypothesis that this is related to sampling and the frequency domain. To make sure, let's see what happens in the Fourier domain when we down-sample the brick image.\n",
      "\n",
      "The following code computes and shows the Fourier domain for various down-sampled versions of the brick image and the original image as well."
     ]
    },
    {
     "cell_type": "code",
     "collapsed": false,
     "input": [
      "def fftshow(im):\n",
      "    im5a=np.asarray(im);\n",
      "\n",
      "    im5f=np.fft.fft2(im5a[:,:,0]);\n",
      "\n",
      "    im5f[0,0]=0;\n",
      "\n",
      "    plt.imshow((np.abs(np.fft.fftshift(im5f))), interpolation='nearest')\n",
      "\n",
      "\n",
      "fftshow(im)"
     ],
     "language": "python",
     "metadata": {},
     "outputs": [],
     "prompt_number": 27
    },
    {
     "cell_type": "markdown",
     "metadata": {},
     "source": [
      "Please note that we remove the DC component of the Fourier transform so that the Fourier image becomes more visible.\n",
      "\n",
      "We can see in the images above the frequency components that lie a little far from the center of the image and hence cause aliasing when downsampling the image. Interference of these frequencies causes the Moire patterns.\n",
      "\n",
      "Now let's see more closely how to create a Moire pattern. We first form a simple image containing a periodic set of stripes (similar to a pulse train in 1D) with period $p$:\n"
     ]
    },
    {
     "cell_type": "code",
     "collapsed": false,
     "input": [],
     "language": "python",
     "metadata": {},
     "outputs": [],
     "prompt_number": 26
    },
    {
     "cell_type": "markdown",
     "metadata": {},
     "source": [
      "We create a second image, with a period $p \\leq q \\leq 2p$:"
     ]
    },
    {
     "cell_type": "code",
     "collapsed": false,
     "input": [],
     "language": "python",
     "metadata": {},
     "outputs": [],
     "prompt_number": 19
    }
   ],
   "metadata": {}
  }
 ]
}